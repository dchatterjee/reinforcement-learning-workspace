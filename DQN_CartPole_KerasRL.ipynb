{
  "nbformat": 4,
  "nbformat_minor": 0,
  "metadata": {
    "colab": {
      "name": "DQN_CartPole_KerasRL.ipynb",
      "provenance": [],
      "collapsed_sections": [],
      "authorship_tag": "ABX9TyNn8+BNO1UUcvkObooZ3wOV",
      "include_colab_link": true
    },
    "kernelspec": {
      "name": "python3",
      "display_name": "Python 3"
    },
    "language_info": {
      "name": "python"
    },
    "accelerator": "GPU"
  },
  "cells": [
    {
      "cell_type": "markdown",
      "metadata": {
        "id": "view-in-github",
        "colab_type": "text"
      },
      "source": [
        "<a href=\"https://colab.research.google.com/github/dchatterjee/reinforcement-learning-workspace/blob/main/DQN_CartPole_KerasRL.ipynb\" target=\"_parent\"><img src=\"https://colab.research.google.com/assets/colab-badge.svg\" alt=\"Open In Colab\"/></a>"
      ]
    },
    {
      "cell_type": "code",
      "execution_count": 1,
      "metadata": {
        "colab": {
          "base_uri": "https://localhost:8080/"
        },
        "id": "PnicO31eDz9l",
        "outputId": "4883d31b-cdf3-4e1a-9e04-5c169dfecded"
      },
      "outputs": [
        {
          "output_type": "stream",
          "name": "stdout",
          "text": [
            "Requirement already satisfied: gym in /usr/local/lib/python3.7/dist-packages (0.17.3)\n",
            "Requirement already satisfied: numpy>=1.10.4 in /usr/local/lib/python3.7/dist-packages (from gym) (1.18.5)\n",
            "Requirement already satisfied: pyglet<=1.5.0,>=1.4.0 in /usr/local/lib/python3.7/dist-packages (from gym) (1.5.0)\n",
            "Requirement already satisfied: scipy in /usr/local/lib/python3.7/dist-packages (from gym) (1.4.1)\n",
            "Requirement already satisfied: cloudpickle<1.7.0,>=1.2.0 in /usr/local/lib/python3.7/dist-packages (from gym) (1.3.0)\n",
            "Requirement already satisfied: future in /usr/local/lib/python3.7/dist-packages (from pyglet<=1.5.0,>=1.4.0->gym) (0.16.0)\n",
            "Requirement already satisfied: keras in /usr/local/lib/python3.7/dist-packages (2.8.0)\n",
            "Requirement already satisfied: keras-rl2 in /usr/local/lib/python3.7/dist-packages (1.0.5)\n",
            "Requirement already satisfied: tensorflow in /usr/local/lib/python3.7/dist-packages (from keras-rl2) (2.3.0)\n",
            "Requirement already satisfied: google-pasta>=0.1.8 in /usr/local/lib/python3.7/dist-packages (from tensorflow->keras-rl2) (0.2.0)\n",
            "Requirement already satisfied: tensorflow-estimator<2.4.0,>=2.3.0 in /usr/local/lib/python3.7/dist-packages (from tensorflow->keras-rl2) (2.3.0)\n",
            "Requirement already satisfied: six>=1.12.0 in /usr/local/lib/python3.7/dist-packages (from tensorflow->keras-rl2) (1.15.0)\n",
            "Requirement already satisfied: gast==0.3.3 in /usr/local/lib/python3.7/dist-packages (from tensorflow->keras-rl2) (0.3.3)\n",
            "Requirement already satisfied: wheel>=0.26 in /usr/local/lib/python3.7/dist-packages (from tensorflow->keras-rl2) (0.37.1)\n",
            "Requirement already satisfied: scipy==1.4.1 in /usr/local/lib/python3.7/dist-packages (from tensorflow->keras-rl2) (1.4.1)\n",
            "Requirement already satisfied: protobuf>=3.9.2 in /usr/local/lib/python3.7/dist-packages (from tensorflow->keras-rl2) (3.17.3)\n",
            "Requirement already satisfied: keras-preprocessing<1.2,>=1.1.1 in /usr/local/lib/python3.7/dist-packages (from tensorflow->keras-rl2) (1.1.2)\n",
            "Requirement already satisfied: numpy<1.19.0,>=1.16.0 in /usr/local/lib/python3.7/dist-packages (from tensorflow->keras-rl2) (1.18.5)\n",
            "Requirement already satisfied: grpcio>=1.8.6 in /usr/local/lib/python3.7/dist-packages (from tensorflow->keras-rl2) (1.44.0)\n",
            "Requirement already satisfied: astunparse==1.6.3 in /usr/local/lib/python3.7/dist-packages (from tensorflow->keras-rl2) (1.6.3)\n",
            "Requirement already satisfied: opt-einsum>=2.3.2 in /usr/local/lib/python3.7/dist-packages (from tensorflow->keras-rl2) (3.3.0)\n",
            "Requirement already satisfied: tensorboard<3,>=2.3.0 in /usr/local/lib/python3.7/dist-packages (from tensorflow->keras-rl2) (2.8.0)\n",
            "Requirement already satisfied: h5py<2.11.0,>=2.10.0 in /usr/local/lib/python3.7/dist-packages (from tensorflow->keras-rl2) (2.10.0)\n",
            "Requirement already satisfied: wrapt>=1.11.1 in /usr/local/lib/python3.7/dist-packages (from tensorflow->keras-rl2) (1.14.0)\n",
            "Requirement already satisfied: absl-py>=0.7.0 in /usr/local/lib/python3.7/dist-packages (from tensorflow->keras-rl2) (1.0.0)\n",
            "Requirement already satisfied: termcolor>=1.1.0 in /usr/local/lib/python3.7/dist-packages (from tensorflow->keras-rl2) (1.1.0)\n",
            "Requirement already satisfied: markdown>=2.6.8 in /usr/local/lib/python3.7/dist-packages (from tensorboard<3,>=2.3.0->tensorflow->keras-rl2) (3.3.6)\n",
            "Requirement already satisfied: tensorboard-data-server<0.7.0,>=0.6.0 in /usr/local/lib/python3.7/dist-packages (from tensorboard<3,>=2.3.0->tensorflow->keras-rl2) (0.6.1)\n",
            "Requirement already satisfied: google-auth-oauthlib<0.5,>=0.4.1 in /usr/local/lib/python3.7/dist-packages (from tensorboard<3,>=2.3.0->tensorflow->keras-rl2) (0.4.6)\n",
            "Requirement already satisfied: tensorboard-plugin-wit>=1.6.0 in /usr/local/lib/python3.7/dist-packages (from tensorboard<3,>=2.3.0->tensorflow->keras-rl2) (1.8.1)\n",
            "Requirement already satisfied: werkzeug>=0.11.15 in /usr/local/lib/python3.7/dist-packages (from tensorboard<3,>=2.3.0->tensorflow->keras-rl2) (1.0.1)\n",
            "Requirement already satisfied: requests<3,>=2.21.0 in /usr/local/lib/python3.7/dist-packages (from tensorboard<3,>=2.3.0->tensorflow->keras-rl2) (2.23.0)\n",
            "Requirement already satisfied: google-auth<3,>=1.6.3 in /usr/local/lib/python3.7/dist-packages (from tensorboard<3,>=2.3.0->tensorflow->keras-rl2) (1.35.0)\n",
            "Requirement already satisfied: setuptools>=41.0.0 in /usr/local/lib/python3.7/dist-packages (from tensorboard<3,>=2.3.0->tensorflow->keras-rl2) (62.1.0)\n",
            "Requirement already satisfied: cachetools<5.0,>=2.0.0 in /usr/local/lib/python3.7/dist-packages (from google-auth<3,>=1.6.3->tensorboard<3,>=2.3.0->tensorflow->keras-rl2) (4.2.4)\n",
            "Requirement already satisfied: rsa<5,>=3.1.4 in /usr/local/lib/python3.7/dist-packages (from google-auth<3,>=1.6.3->tensorboard<3,>=2.3.0->tensorflow->keras-rl2) (4.8)\n",
            "Requirement already satisfied: pyasn1-modules>=0.2.1 in /usr/local/lib/python3.7/dist-packages (from google-auth<3,>=1.6.3->tensorboard<3,>=2.3.0->tensorflow->keras-rl2) (0.2.8)\n",
            "Requirement already satisfied: requests-oauthlib>=0.7.0 in /usr/local/lib/python3.7/dist-packages (from google-auth-oauthlib<0.5,>=0.4.1->tensorboard<3,>=2.3.0->tensorflow->keras-rl2) (1.3.1)\n",
            "Requirement already satisfied: importlib-metadata>=4.4 in /usr/local/lib/python3.7/dist-packages (from markdown>=2.6.8->tensorboard<3,>=2.3.0->tensorflow->keras-rl2) (4.11.3)\n",
            "Requirement already satisfied: typing-extensions>=3.6.4 in /usr/local/lib/python3.7/dist-packages (from importlib-metadata>=4.4->markdown>=2.6.8->tensorboard<3,>=2.3.0->tensorflow->keras-rl2) (4.2.0)\n",
            "Requirement already satisfied: zipp>=0.5 in /usr/local/lib/python3.7/dist-packages (from importlib-metadata>=4.4->markdown>=2.6.8->tensorboard<3,>=2.3.0->tensorflow->keras-rl2) (3.8.0)\n",
            "Requirement already satisfied: pyasn1<0.5.0,>=0.4.6 in /usr/local/lib/python3.7/dist-packages (from pyasn1-modules>=0.2.1->google-auth<3,>=1.6.3->tensorboard<3,>=2.3.0->tensorflow->keras-rl2) (0.4.8)\n",
            "Requirement already satisfied: idna<3,>=2.5 in /usr/local/lib/python3.7/dist-packages (from requests<3,>=2.21.0->tensorboard<3,>=2.3.0->tensorflow->keras-rl2) (2.10)\n",
            "Requirement already satisfied: urllib3!=1.25.0,!=1.25.1,<1.26,>=1.21.1 in /usr/local/lib/python3.7/dist-packages (from requests<3,>=2.21.0->tensorboard<3,>=2.3.0->tensorflow->keras-rl2) (1.24.3)\n",
            "Requirement already satisfied: certifi>=2017.4.17 in /usr/local/lib/python3.7/dist-packages (from requests<3,>=2.21.0->tensorboard<3,>=2.3.0->tensorflow->keras-rl2) (2021.10.8)\n",
            "Requirement already satisfied: chardet<4,>=3.0.2 in /usr/local/lib/python3.7/dist-packages (from requests<3,>=2.21.0->tensorboard<3,>=2.3.0->tensorflow->keras-rl2) (3.0.4)\n",
            "Requirement already satisfied: oauthlib>=3.0.0 in /usr/local/lib/python3.7/dist-packages (from requests-oauthlib>=0.7.0->google-auth-oauthlib<0.5,>=0.4.1->tensorboard<3,>=2.3.0->tensorflow->keras-rl2) (3.2.0)\n",
            "Requirement already satisfied: setuptools in /usr/local/lib/python3.7/dist-packages (62.1.0)\n"
          ]
        }
      ],
      "source": [
        "#!pip install tensorflow==2.3.0\n",
        "!pip install gym\n",
        "!pip install keras\n",
        "!pip install keras-rl2\n",
        "\n",
        "# HIDE OUTPUT\n",
        "!pip install gym pyvirtualdisplay > /dev/null 2>&1\n",
        "!apt-get install -y xvfb python-opengl ffmpeg > /dev/null 2>&1\n",
        "\n",
        "# HIDE OUTPUT\n",
        "!apt-get update > /dev/null 2>&1\n",
        "!apt-get install cmake > /dev/null 2>&1\n",
        "!pip install --upgrade setuptools 2>&1\n",
        "!pip install ez_setup > /dev/null 2>&1\n",
        "\n",
        "!rm -rf /video"
      ]
    },
    {
      "cell_type": "code",
      "source": [
        "import gym\n",
        "import random\n",
        "from gym.wrappers import Monitor\n",
        "import glob\n",
        "import io\n",
        "import base64\n",
        "from IPython.display import HTML\n",
        "from pyvirtualdisplay import Display\n",
        "from IPython import display as ipythondisplay\n",
        "\n",
        "display = Display(visible=0, size=(1400, 900))\n",
        "display.start()\n",
        "\n",
        "\"\"\"\n",
        "Utility functions to enable video recording of gym environment \n",
        "and displaying it.\n",
        "To enable video, just do \"env = wrap_env(env)\"\"\n",
        "\"\"\"\n",
        "\n",
        "\n",
        "def show_video():\n",
        "    mp4list = glob.glob('video/*.mp4')\n",
        "    if len(mp4list) > 0:\n",
        "        mp4 = mp4list[0]\n",
        "        video = io.open(mp4, 'r+b').read()\n",
        "        encoded = base64.b64encode(video)\n",
        "        ipythondisplay.display(HTML(data='''<video alt=\"test\" autoplay \n",
        "                loop controls style=\"height: 400px;\">\n",
        "                <source src=\"data:video/mp4;base64,{0}\" type=\"video/mp4\" />\n",
        "             </video>'''.format(encoded.decode('ascii'))))\n",
        "    else:\n",
        "        print(\"Could not find video\")\n",
        "\n",
        "\n",
        "def wrap_env(env):\n",
        "    env = Monitor(env, './video', force=True)\n",
        "    return env"
      ],
      "metadata": {
        "id": "py9H-OjWFEqq"
      },
      "execution_count": 2,
      "outputs": []
    },
    {
      "cell_type": "code",
      "source": [
        "env = wrap_env(gym.make('CartPole-v0'))\n",
        "states = env.observation_space.shape[0]\n",
        "actions = env.action_space.n\n",
        "\n",
        "episodes = 10\n",
        "for episode in range(1, episodes+1):\n",
        "    state = env.reset()\n",
        "    done = False\n",
        "    score = 0 \n",
        "    \n",
        "    while not done:\n",
        "        env.render()\n",
        "        action = random.choice([0,1])\n",
        "        n_state, reward, done, info = env.step(action)\n",
        "        score+=reward\n",
        "    print('Episode:{} Score:{}'.format(episode, score))"
      ],
      "metadata": {
        "colab": {
          "base_uri": "https://localhost:8080/"
        },
        "id": "wR1KOb4_EkTo",
        "outputId": "9617d057-a213-4055-fe86-9db57829f570"
      },
      "execution_count": 3,
      "outputs": [
        {
          "output_type": "stream",
          "name": "stdout",
          "text": [
            "Episode:1 Score:19.0\n",
            "Episode:2 Score:44.0\n",
            "Episode:3 Score:19.0\n",
            "Episode:4 Score:25.0\n",
            "Episode:5 Score:25.0\n",
            "Episode:6 Score:39.0\n",
            "Episode:7 Score:21.0\n",
            "Episode:8 Score:12.0\n",
            "Episode:9 Score:22.0\n",
            "Episode:10 Score:19.0\n"
          ]
        }
      ]
    },
    {
      "cell_type": "code",
      "source": [
        "env.close()\n",
        "show_video()"
      ],
      "metadata": {
        "colab": {
          "base_uri": "https://localhost:8080/",
          "height": 421
        },
        "id": "kRFLCpZ_Epqu",
        "outputId": "4e7237d6-a471-4e75-e816-c563f929e0be"
      },
      "execution_count": 4,
      "outputs": [
        {
          "output_type": "display_data",
          "data": {
            "text/plain": [
              "<IPython.core.display.HTML object>"
            ],
            "text/html": [
              "<video alt=\"test\" autoplay \n",
              "                loop controls style=\"height: 400px;\">\n",
              "                <source src=\"data:video/mp4;base64,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\" type=\"video/mp4\" />\n",
              "             </video>"
            ]
          },
          "metadata": {}
        }
      ]
    },
    {
      "cell_type": "code",
      "source": [
        "import numpy as np\n",
        "from tensorflow.keras.models import Sequential\n",
        "from tensorflow.keras.layers import Dense, Flatten\n",
        "from tensorflow.keras.optimizers import Adam"
      ],
      "metadata": {
        "id": "KcnuSxMyGSf4"
      },
      "execution_count": 5,
      "outputs": []
    },
    {
      "cell_type": "code",
      "source": [
        "def build_model(states, actions):\n",
        "    model = Sequential()\n",
        "    model.add(Flatten(input_shape=(1,states)))\n",
        "    model.add(Dense(24, activation='relu'))\n",
        "    model.add(Dense(24, activation='relu'))\n",
        "    model.add(Dense(actions, activation='linear'))\n",
        "    return model"
      ],
      "metadata": {
        "id": "-Oues4pHMC_L"
      },
      "execution_count": 6,
      "outputs": []
    },
    {
      "cell_type": "code",
      "source": [
        "del model"
      ],
      "metadata": {
        "id": "1bkOw9SrQ6Gz"
      },
      "execution_count": 12,
      "outputs": []
    },
    {
      "cell_type": "code",
      "source": [
        "model = build_model(states, actions)"
      ],
      "metadata": {
        "id": "FXTm1Y6UMFV3"
      },
      "execution_count": 13,
      "outputs": []
    },
    {
      "cell_type": "code",
      "source": [
        "model.summary()"
      ],
      "metadata": {
        "colab": {
          "base_uri": "https://localhost:8080/"
        },
        "id": "6ZwhA-axMHNw",
        "outputId": "b0b65af2-5c11-4c56-d908-86b5b0def4eb"
      },
      "execution_count": 14,
      "outputs": [
        {
          "output_type": "stream",
          "name": "stdout",
          "text": [
            "Model: \"sequential_1\"\n",
            "_________________________________________________________________\n",
            "Layer (type)                 Output Shape              Param #   \n",
            "=================================================================\n",
            "flatten_1 (Flatten)          (None, 4)                 0         \n",
            "_________________________________________________________________\n",
            "dense_3 (Dense)              (None, 24)                120       \n",
            "_________________________________________________________________\n",
            "dense_4 (Dense)              (None, 24)                600       \n",
            "_________________________________________________________________\n",
            "dense_5 (Dense)              (None, 2)                 50        \n",
            "=================================================================\n",
            "Total params: 770\n",
            "Trainable params: 770\n",
            "Non-trainable params: 0\n",
            "_________________________________________________________________\n"
          ]
        }
      ]
    },
    {
      "cell_type": "code",
      "source": [
        "from rl.agents import DQNAgent\n",
        "from rl.policy import BoltzmannQPolicy\n",
        "from rl.memory import SequentialMemory"
      ],
      "metadata": {
        "id": "uLxXgpACMJWx"
      },
      "execution_count": 15,
      "outputs": []
    },
    {
      "cell_type": "code",
      "source": [
        "def build_agent(model, actions):\n",
        "    policy = BoltzmannQPolicy()\n",
        "    memory = SequentialMemory(limit=50000, window_length=1)\n",
        "    dqn = DQNAgent(model=model, memory=memory, policy=policy, \n",
        "                  nb_actions=actions, nb_steps_warmup=10, target_model_update=1e-2)\n",
        "    return dqn"
      ],
      "metadata": {
        "id": "w_tbJLFKMNUK"
      },
      "execution_count": 16,
      "outputs": []
    },
    {
      "cell_type": "code",
      "source": [
        "dqn = build_agent(model, actions)\n",
        "dqn.compile(Adam(lr=1e-3), metrics=['mae'])\n",
        "dqn.fit(env, nb_steps=50000, visualize=False, verbose=1)"
      ],
      "metadata": {
        "colab": {
          "base_uri": "https://localhost:8080/"
        },
        "id": "IL3sgJysMPfr",
        "outputId": "1ecd11cb-9916-42c5-ca88-ece71a67fdbc"
      },
      "execution_count": 17,
      "outputs": [
        {
          "output_type": "stream",
          "name": "stdout",
          "text": [
            "Training for 50000 steps ...\n",
            "Interval 1 (0 steps performed)\n",
            "WARNING:tensorflow:From /usr/local/lib/python3.7/dist-packages/tensorflow/python/keras/engine/training_v1.py:2070: Model.state_updates (from tensorflow.python.keras.engine.training) is deprecated and will be removed in a future version.\n",
            "Instructions for updating:\n",
            "This property should not be used in TensorFlow 2.0, as updates are applied automatically.\n",
            "    1/10000 [..............................] - ETA: 9:04 - reward: 1.0000"
          ]
        },
        {
          "output_type": "stream",
          "name": "stderr",
          "text": [
            "/usr/local/lib/python3.7/dist-packages/rl/memory.py:37: UserWarning: Not enough entries to sample without replacement. Consider increasing your warm-up phase to avoid oversampling!\n",
            "  warnings.warn('Not enough entries to sample without replacement. Consider increasing your warm-up phase to avoid oversampling!')\n"
          ]
        },
        {
          "output_type": "stream",
          "name": "stdout",
          "text": [
            "10000/10000 [==============================] - 76s 8ms/step - reward: 1.0000\n",
            "107 episodes - episode_reward: 92.402 [10.000, 200.000] - loss: 4.028 - mae: 19.570 - mean_q: 39.502\n",
            "\n",
            "Interval 2 (10000 steps performed)\n",
            "10000/10000 [==============================] - 75s 8ms/step - reward: 1.0000\n",
            "50 episodes - episode_reward: 198.720 [180.000, 200.000] - loss: 9.500 - mae: 40.543 - mean_q: 81.552\n",
            "\n",
            "Interval 3 (20000 steps performed)\n",
            "10000/10000 [==============================] - 77s 8ms/step - reward: 1.0000\n",
            "51 episodes - episode_reward: 198.431 [173.000, 200.000] - loss: 8.344 - mae: 43.686 - mean_q: 87.715\n",
            "\n",
            "Interval 4 (30000 steps performed)\n",
            "10000/10000 [==============================] - 78s 8ms/step - reward: 1.0000\n",
            "50 episodes - episode_reward: 199.440 [184.000, 200.000] - loss: 6.966 - mae: 41.093 - mean_q: 82.397\n",
            "\n",
            "Interval 5 (40000 steps performed)\n",
            "10000/10000 [==============================] - 80s 8ms/step - reward: 1.0000\n",
            "done, took 386.366 seconds\n"
          ]
        },
        {
          "output_type": "execute_result",
          "data": {
            "text/plain": [
              "<tensorflow.python.keras.callbacks.History at 0x7f415dcdbbd0>"
            ]
          },
          "metadata": {},
          "execution_count": 17
        }
      ]
    },
    {
      "cell_type": "code",
      "source": [
        "scores = dqn.test(env, nb_episodes=100, visualize=False)\n",
        "print(np.mean(scores.history['episode_reward']))"
      ],
      "metadata": {
        "colab": {
          "base_uri": "https://localhost:8080/"
        },
        "id": "T35nHsp6MR2l",
        "outputId": "22753875-d0a1-4efd-b8d6-484599144ae7"
      },
      "execution_count": 18,
      "outputs": [
        {
          "output_type": "stream",
          "name": "stdout",
          "text": [
            "Testing for 100 episodes ...\n",
            "Episode 1: reward: 200.000, steps: 200\n",
            "Episode 2: reward: 200.000, steps: 200\n",
            "Episode 3: reward: 200.000, steps: 200\n",
            "Episode 4: reward: 200.000, steps: 200\n",
            "Episode 5: reward: 200.000, steps: 200\n",
            "Episode 6: reward: 200.000, steps: 200\n",
            "Episode 7: reward: 200.000, steps: 200\n",
            "Episode 8: reward: 200.000, steps: 200\n",
            "Episode 9: reward: 200.000, steps: 200\n",
            "Episode 10: reward: 200.000, steps: 200\n",
            "Episode 11: reward: 200.000, steps: 200\n",
            "Episode 12: reward: 200.000, steps: 200\n",
            "Episode 13: reward: 200.000, steps: 200\n",
            "Episode 14: reward: 200.000, steps: 200\n",
            "Episode 15: reward: 200.000, steps: 200\n",
            "Episode 16: reward: 200.000, steps: 200\n",
            "Episode 17: reward: 200.000, steps: 200\n",
            "Episode 18: reward: 200.000, steps: 200\n",
            "Episode 19: reward: 200.000, steps: 200\n",
            "Episode 20: reward: 200.000, steps: 200\n",
            "Episode 21: reward: 200.000, steps: 200\n",
            "Episode 22: reward: 200.000, steps: 200\n",
            "Episode 23: reward: 200.000, steps: 200\n",
            "Episode 24: reward: 200.000, steps: 200\n",
            "Episode 25: reward: 200.000, steps: 200\n",
            "Episode 26: reward: 200.000, steps: 200\n",
            "Episode 27: reward: 200.000, steps: 200\n",
            "Episode 28: reward: 200.000, steps: 200\n",
            "Episode 29: reward: 200.000, steps: 200\n",
            "Episode 30: reward: 200.000, steps: 200\n",
            "Episode 31: reward: 200.000, steps: 200\n",
            "Episode 32: reward: 200.000, steps: 200\n",
            "Episode 33: reward: 200.000, steps: 200\n",
            "Episode 34: reward: 200.000, steps: 200\n",
            "Episode 35: reward: 200.000, steps: 200\n",
            "Episode 36: reward: 200.000, steps: 200\n",
            "Episode 37: reward: 200.000, steps: 200\n",
            "Episode 38: reward: 200.000, steps: 200\n",
            "Episode 39: reward: 200.000, steps: 200\n",
            "Episode 40: reward: 200.000, steps: 200\n",
            "Episode 41: reward: 200.000, steps: 200\n",
            "Episode 42: reward: 200.000, steps: 200\n",
            "Episode 43: reward: 200.000, steps: 200\n",
            "Episode 44: reward: 200.000, steps: 200\n",
            "Episode 45: reward: 200.000, steps: 200\n",
            "Episode 46: reward: 200.000, steps: 200\n",
            "Episode 47: reward: 200.000, steps: 200\n",
            "Episode 48: reward: 200.000, steps: 200\n",
            "Episode 49: reward: 200.000, steps: 200\n",
            "Episode 50: reward: 200.000, steps: 200\n",
            "Episode 51: reward: 200.000, steps: 200\n",
            "Episode 52: reward: 200.000, steps: 200\n",
            "Episode 53: reward: 200.000, steps: 200\n",
            "Episode 54: reward: 200.000, steps: 200\n",
            "Episode 55: reward: 200.000, steps: 200\n",
            "Episode 56: reward: 200.000, steps: 200\n",
            "Episode 57: reward: 200.000, steps: 200\n",
            "Episode 58: reward: 200.000, steps: 200\n",
            "Episode 59: reward: 200.000, steps: 200\n",
            "Episode 60: reward: 200.000, steps: 200\n",
            "Episode 61: reward: 200.000, steps: 200\n",
            "Episode 62: reward: 200.000, steps: 200\n",
            "Episode 63: reward: 200.000, steps: 200\n",
            "Episode 64: reward: 200.000, steps: 200\n",
            "Episode 65: reward: 200.000, steps: 200\n",
            "Episode 66: reward: 200.000, steps: 200\n",
            "Episode 67: reward: 200.000, steps: 200\n",
            "Episode 68: reward: 200.000, steps: 200\n",
            "Episode 69: reward: 200.000, steps: 200\n",
            "Episode 70: reward: 200.000, steps: 200\n",
            "Episode 71: reward: 200.000, steps: 200\n",
            "Episode 72: reward: 200.000, steps: 200\n",
            "Episode 73: reward: 200.000, steps: 200\n",
            "Episode 74: reward: 200.000, steps: 200\n",
            "Episode 75: reward: 200.000, steps: 200\n",
            "Episode 76: reward: 200.000, steps: 200\n",
            "Episode 77: reward: 200.000, steps: 200\n",
            "Episode 78: reward: 200.000, steps: 200\n",
            "Episode 79: reward: 200.000, steps: 200\n",
            "Episode 80: reward: 200.000, steps: 200\n",
            "Episode 81: reward: 200.000, steps: 200\n",
            "Episode 82: reward: 200.000, steps: 200\n",
            "Episode 83: reward: 200.000, steps: 200\n",
            "Episode 84: reward: 200.000, steps: 200\n",
            "Episode 85: reward: 200.000, steps: 200\n",
            "Episode 86: reward: 200.000, steps: 200\n",
            "Episode 87: reward: 200.000, steps: 200\n",
            "Episode 88: reward: 200.000, steps: 200\n",
            "Episode 89: reward: 200.000, steps: 200\n",
            "Episode 90: reward: 200.000, steps: 200\n",
            "Episode 91: reward: 200.000, steps: 200\n",
            "Episode 92: reward: 200.000, steps: 200\n",
            "Episode 93: reward: 200.000, steps: 200\n",
            "Episode 94: reward: 200.000, steps: 200\n",
            "Episode 95: reward: 200.000, steps: 200\n",
            "Episode 96: reward: 200.000, steps: 200\n",
            "Episode 97: reward: 200.000, steps: 200\n",
            "Episode 98: reward: 200.000, steps: 200\n",
            "Episode 99: reward: 200.000, steps: 200\n",
            "Episode 100: reward: 200.000, steps: 200\n",
            "200.0\n"
          ]
        }
      ]
    },
    {
      "cell_type": "code",
      "source": [
        "!rm -rf /video"
      ],
      "metadata": {
        "id": "H2TaJtM8U9Kg"
      },
      "execution_count": null,
      "outputs": []
    },
    {
      "cell_type": "code",
      "source": [
        "_ = dqn.test(env, nb_episodes=15, visualize=True)"
      ],
      "metadata": {
        "colab": {
          "base_uri": "https://localhost:8080/"
        },
        "id": "x_XOQq81SsDj",
        "outputId": "dd4b5c60-ee81-43b5-8b97-9834d5b49063"
      },
      "execution_count": 19,
      "outputs": [
        {
          "output_type": "stream",
          "name": "stdout",
          "text": [
            "Testing for 15 episodes ...\n",
            "Episode 1: reward: 200.000, steps: 200\n",
            "Episode 2: reward: 200.000, steps: 200\n",
            "Episode 3: reward: 200.000, steps: 200\n",
            "Episode 4: reward: 200.000, steps: 200\n",
            "Episode 5: reward: 200.000, steps: 200\n",
            "Episode 6: reward: 200.000, steps: 200\n",
            "Episode 7: reward: 200.000, steps: 200\n",
            "Episode 8: reward: 200.000, steps: 200\n",
            "Episode 9: reward: 200.000, steps: 200\n",
            "Episode 10: reward: 200.000, steps: 200\n",
            "Episode 11: reward: 200.000, steps: 200\n",
            "Episode 12: reward: 200.000, steps: 200\n",
            "Episode 13: reward: 200.000, steps: 200\n",
            "Episode 14: reward: 200.000, steps: 200\n",
            "Episode 15: reward: 200.000, steps: 200\n"
          ]
        }
      ]
    },
    {
      "cell_type": "code",
      "source": [
        "env.close()\n",
        "show_video()"
      ],
      "metadata": {
        "colab": {
          "base_uri": "https://localhost:8080/",
          "height": 421
        },
        "id": "knaiVOhiSxAr",
        "outputId": "c54cce2f-6be3-4301-b565-1dd6f3f5df0b"
      },
      "execution_count": 20,
      "outputs": [
        {
          "output_type": "display_data",
          "data": {
            "text/plain": [
              "<IPython.core.display.HTML object>"
            ],
            "text/html": [
              "<video alt=\"test\" autoplay \n",
              "                loop controls style=\"height: 400px;\">\n",
              "                <source src=\"data:video/mp4;base64,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\" type=\"video/mp4\" />\n",
              "             </video>"
            ]
          },
          "metadata": {}
        }
      ]
    },
    {
      "cell_type": "code",
      "source": [
        "# Save and Load model params"
      ],
      "metadata": {
        "id": "LeRC-jDGS132"
      },
      "execution_count": 21,
      "outputs": []
    },
    {
      "cell_type": "code",
      "source": [
        "dqn.save_weights('dqn_weights.h5f', overwrite=True)"
      ],
      "metadata": {
        "id": "-v-szOLXS-hG"
      },
      "execution_count": 22,
      "outputs": []
    },
    {
      "cell_type": "code",
      "source": [
        "!rm -rf /video"
      ],
      "metadata": {
        "id": "LhvzmhaSUliO"
      },
      "execution_count": null,
      "outputs": []
    },
    {
      "cell_type": "code",
      "source": [
        "del model\n",
        "del dqn\n",
        "del env"
      ],
      "metadata": {
        "colab": {
          "base_uri": "https://localhost:8080/",
          "height": 235
        },
        "id": "phXWtqlmS_pi",
        "outputId": "dfd1c893-8c3c-4471-cb2b-b9bb5ae4450a"
      },
      "execution_count": 38,
      "outputs": [
        {
          "output_type": "error",
          "ename": "NameError",
          "evalue": "ignored",
          "traceback": [
            "\u001b[0;31m---------------------------------------------------------------------------\u001b[0m",
            "\u001b[0;31mNameError\u001b[0m                                 Traceback (most recent call last)",
            "\u001b[0;32m<ipython-input-38-6eb1b3c1ce4f>\u001b[0m in \u001b[0;36m<module>\u001b[0;34m()\u001b[0m\n\u001b[0;32m----> 1\u001b[0;31m \u001b[0;32mdel\u001b[0m \u001b[0mmodel\u001b[0m\u001b[0;34m\u001b[0m\u001b[0;34m\u001b[0m\u001b[0m\n\u001b[0m\u001b[1;32m      2\u001b[0m \u001b[0;32mdel\u001b[0m \u001b[0mdqn\u001b[0m\u001b[0;34m\u001b[0m\u001b[0;34m\u001b[0m\u001b[0m\n\u001b[1;32m      3\u001b[0m \u001b[0;32mdel\u001b[0m \u001b[0menv\u001b[0m\u001b[0;34m\u001b[0m\u001b[0;34m\u001b[0m\u001b[0m\n\u001b[1;32m      4\u001b[0m \u001b[0;34m\u001b[0m\u001b[0m\n\u001b[1;32m      5\u001b[0m \u001b[0mget_ipython\u001b[0m\u001b[0;34m(\u001b[0m\u001b[0;34m)\u001b[0m\u001b[0;34m.\u001b[0m\u001b[0msystem\u001b[0m\u001b[0;34m(\u001b[0m\u001b[0;34m'rm -rf /video'\u001b[0m\u001b[0;34m)\u001b[0m\u001b[0;34m\u001b[0m\u001b[0;34m\u001b[0m\u001b[0m\n",
            "\u001b[0;31mNameError\u001b[0m: name 'model' is not defined"
          ]
        }
      ]
    },
    {
      "cell_type": "code",
      "source": [
        "env = wrap_env(gym.make('CartPole-v0'))\n",
        "actions = env.action_space.n\n",
        "states = env.observation_space.shape[0]\n",
        "model = build_model(states, actions)\n",
        "dqn = build_agent(model, actions)\n",
        "dqn.compile(Adam(lr=1e-3), metrics=['mae'])"
      ],
      "metadata": {
        "id": "NiyWNoPITCsT"
      },
      "execution_count": 39,
      "outputs": []
    },
    {
      "cell_type": "code",
      "source": [
        "dqn.load_weights('dqn_weights.h5f')"
      ],
      "metadata": {
        "id": "t8m_4IQNTE1d"
      },
      "execution_count": 40,
      "outputs": []
    },
    {
      "cell_type": "code",
      "source": [
        "_ = dqn.test(env, nb_episodes=5, visualize=True)"
      ],
      "metadata": {
        "colab": {
          "base_uri": "https://localhost:8080/"
        },
        "id": "EA3wOOT6TQ_p",
        "outputId": "e0671ef1-c48a-4ac3-c4f3-67cc83788b8c"
      },
      "execution_count": 41,
      "outputs": [
        {
          "output_type": "stream",
          "name": "stdout",
          "text": [
            "Testing for 5 episodes ...\n",
            "Episode 1: reward: 200.000, steps: 200\n",
            "Episode 2: reward: 200.000, steps: 200\n",
            "Episode 3: reward: 200.000, steps: 200\n",
            "Episode 4: reward: 200.000, steps: 200\n",
            "Episode 5: reward: 200.000, steps: 200\n"
          ]
        }
      ]
    },
    {
      "cell_type": "code",
      "source": [
        "\n",
        "env.close()\n",
        "show_video()"
      ],
      "metadata": {
        "colab": {
          "base_uri": "https://localhost:8080/",
          "height": 421
        },
        "id": "FQWYFPDkTTTt",
        "outputId": "335ffccb-ccb1-460e-da5b-30cfc127064d"
      },
      "execution_count": 42,
      "outputs": [
        {
          "output_type": "display_data",
          "data": {
            "text/plain": [
              "<IPython.core.display.HTML object>"
            ],
            "text/html": [
              "<video alt=\"test\" autoplay \n",
              "                loop controls style=\"height: 400px;\">\n",
              "                <source src=\"data:video/mp4;base64,AAAAIGZ0eXBpc29tAAACAGlzb21pc28yYXZjMW1wNDEAAAAIZnJlZQAAJZVtZGF0AAACrgYF//+q3EXpvebZSLeWLNgg2SPu73gyNjQgLSBjb3JlIDE1MiByMjg1NCBlOWE1OTAzIC0gSC4yNjQvTVBFRy00IEFWQyBjb2RlYyAtIENvcHlsZWZ0IDIwMDMtMjAxNyAtIGh0dHA6Ly93d3cudmlkZW9sYW4ub3JnL3gyNjQuaHRtbCAtIG9wdGlvbnM6IGNhYmFjPTEgcmVmPTMgZGVibG9jaz0xOjA6MCBhbmFseXNlPTB4MzoweDExMyBtZT1oZXggc3VibWU9NyBwc3k9MSBwc3lfcmQ9MS4wMDowLjAwIG1peGVkX3JlZj0xIG1lX3JhbmdlPTE2IGNocm9tYV9tZT0xIHRyZWxsaXM9MSA4eDhkY3Q9MSBjcW09MCBkZWFkem9uZT0yMSwxMSBmYXN0X3Bza2lwPTEgY2hyb21hX3FwX29mZnNldD0tMiB0aHJlYWRzPTMgbG9va2FoZWFkX3RocmVhZHM9MSBzbGljZWRfdGhyZWFkcz0wIG5yPTAgZGVjaW1hdGU9MSBpbnRlcmxhY2VkPTAgYmx1cmF5X2NvbXBhdD0wIGNvbnN0cmFpbmVkX2ludHJhPTAgYmZyYW1lcz0zIGJfcHlyYW1pZD0yIGJfYWRhcHQ9MSBiX2JpYXM9MCBkaXJlY3Q9MSB3ZWlnaHRiPTEgb3Blbl9nb3A9MCB3ZWlnaHRwPTIga2V5aW50PTI1MCBrZXlpbnRfbWluPTI1IHNjZW5lY3V0PTQwIGludHJhX3JlZnJlc2g9MCByY19sb29rYWhlYWQ9NDAgcmM9Y3JmIG1idHJlZT0xIGNyZj0yMy4wIHFjb21wPTAuNjAgcXBtaW49MCBxcG1heD02OSBxcHN0ZXA9NCBpcF9yYXRpbz0xLjQwIGFxPTE6MS4wMACAAAACCmWIhAAz//727L4FNf2f0JcRLMXaSnA+KqSAgHc0wAAAAwAAAwAAFgn0I7DkqgN3QAAAHGAFBCwCPCVC2EhH2OkN/wTj6yAaCHXZwOhJHNpfjcOPzuh4UkRDkTS/7WCp1W1ZK7hWt6VIZ9g8jz3IuXuHz1Cv96PC///zNBOrRHvImO3RCRQQEjwVMJ6Z0/XsZeRStGuQrX8cAU4pC2go+J/kubf/+pf/zsrtWp6VPUmBHzJ+a5E9yNYOPgdPUIYAhs9OTkz/9dmG4O0AT0eewxXqj/JQMnFuBuY31p6zZMkvvyhXtA4aASsFEEUXXlOMVQje7VWBIFQTBAYhy8eVTe8ltNQK1jWwrrDUjMTWVWSgDuJJK4FIKv+r5YzCFv8JE5YBQ6AQaC/+2M/gk+p3Lp4fe8GoiiopUwd6mLRjzROABMajQhaxOFfIkFbv+wWNZINfBGd9KJvFktSqdqMgGFQqpO9iwC/Z/uemc7ovJNyWnNv0QmPfSNxhTbV1LR9pgjK+oxniR3Di7qBpfNSJi9ztQqzKn1iKe3Dp90GgEZR+9PKUWimoW43x/NCYaxBSK1zOFcIS/OFi7OePG7UiGbBlxJ5PCxY4snb2QNCPb0ADuxPfu4IQJI0xbAt9Jrnb5bRYEmadaxJQTmNwrml7dlgXthOWKqT1RFMyDIsNAWkyQAAAAwAAAwAEjQAAAIBBmiRsQz/+nhAAAEV1F0pAJrWYqgw23bhAFxr+9heIOHkiPDYZJRXr4rlAeAazSZN+BAN6YuqhbNfV/BRjiyEGi1yCiwBijK47UtmusdmoO9Uin73IQbH+EJra4skLOKluMqWEKT2kP5eiuq5KBN8AAC51xB9h9TyEbTdBY04V/AAAADBBnkJ4hH8AABalaUsD+NdABr9lGtjpXiMN/7lcc/K6v5WJck1QrAAAAwHyksZYD8kAAABAAZ5hdEf/AAANd0WmpIJTkvFhTkQ5onMCATulJ/H2rhQAS/HT95cpPmgEpH7WJKx/R8YAAAMAAAMBU6FNagD0gAAAADoBnmNqR/8AACO/C6+kfarhcmYAcrzf0xliArSATHYAE7aXx7Xg8lm7sQgxVSrAAAADAAKwSx24QEfBAAAATkGaaEmoQWiZTAhn//6eEAAAQ0hoIRgmLy3W+4eHxWnOQ5AZ5xAXKcKyCqvvc6JhzUYLTZwl5VkOMk0k29kybS6rGp+4hR03UrVvzydAwQAAACJBnoZFESwj/wAAAwE1/gcBZNJ72RfAAIa6YKXVeNBsOQ5pAAAAGAGepXRH/wAAAwHm+DFkOf0P1gkOkOh90QAAABYBnqdqR/8AAAMB5n6XCisJ9V2EChVBAAAASUGarEmoQWyZTAhn//6eEAAARWj5lbltVhShJ7A3nuRoQ4ADm//IPpMa0QFFwiSHjzrr01ipDgXPIAQpxj7E0GwCjZR4B256QaAAAAAnQZ7KRRUsI/8AABa1Wv4WSSM0SuaAL8MLoM1KyTaF00mvckODHXsxAAAALQGe6XRH/wAAI8NApgJ5MWDSqkJQ8hYQAPr3JHhSCmb3N8JxyZ0NtYe53R01RgAAABUBnutqR/8AACPHxyde3hsGPfxA9IAAAABBQZrwSahBbJlMCGf//p4QAAADAId7+MTBfEDwF/KSaEeLmZ64Qh0AONtjyUTDsVQrOqkMwQMJaitgnzklPImKOHEAAAAjQZ8ORRUsI/8AAAMALEpWbtcwIKQkVgAhECXOevH/5aA7dt0AAAAVAZ8tdEf/AAADAEWRXw8Zx6LU5VVBAAAAKgGfL2pH/wAAAwAaeiBABdQCF2/twIgVeSY52y7DlAe4pViYlOcEDKb7MAAAADJBmzRJqEFsmUwIZ//+nhAAAEVFKLQAqvrq8m1xlViIiFq1/6YBLWFVzVKekL8WcoAQ8AAAABdBn1JFFSwj/wAAFrxDzRyyAySF0rgE3QAAABkBn3F0R/8AACOf8c5PUgByPjxdfYeNgAHzAAAAEwGfc2pH/wAAIz3MDdrp9SYoAyoAAABYQZt4SahBbJlMCGf//p4QAAAZ3+RBAyfzKsbct+2+2hTGKm7yXR+C0Us27G7bxShlb7PmyihdbfuTBpiVYyuRWrOLIn+MQgmMvc6BzRDov00CSmopbB8wgQAAADhBn5ZFFSwj/wAAFqgOzFOlfgcOEnWkYzkmpIhVgtG9wAg+xtbNbJu0iH2R1vNS80AoVnXtIufBgAAAACwBn7V0R/8AACPDQle6Q6KOgBKnvj/3AYc950+pbrIq/36nIV4423wURhxQQQAAACgBn7dqR/8AACO/G97W66ABdQB8RsDER8Nq0tiy8wtUXWg8fKr0ILbNAAAAT0GbvEmoQWyZTAhn//6eEAAARU5jlsAtZ9swxwNr4fjWc56+w4aZD7UYDRMXPHBzbtkxHy+QmPoRnEVWlbf4QbYB7vsr8q1AGxBV+UoiX5AAAAAlQZ/aRRUsI/8AABbIn4AiNmrdYXiG6FYTGB3OSibyabz8TwBz4QAAABABn/l0R/8AACPDP7Hro/EHAAAAEwGf+2pH/wAAI8e9jBocqq3qdg0AAAAxQZvgSahBbJlMCGf//p4QAABFRSYpeayx9/qMUl0fq1UnqYqRXyEAAVtqDwdS7fDlgQAAAC1Bnh5FFSwj/wAAFrxDzbcVzKyZXuaIAS1SdF38m2JowFdpbVRKizEfnAxUSTAAAAAzAZ49dEf/AAAjyGSUgA4M5BvgZSJNrSiRdZszBmKToeEHoN4izV4jZry4IW060OCsg/4MAAAALQGeP2pH/wAAI9UhABxYBi26kWVNMBomt5h1yoeJJTEaycMEsh+PO7l3dQd+XQAAADdBmiRJqEFsmUwIZ//+nhAAAAMAB0P9QtsAQ3jfh0YlJ05JZlubJisoE6Lm+6da9dEZD1z1jP1gAAAAEkGeQkUVLCP/AAADAAJbydxAwQAAAA4BnmF0R/8AAAMAAAMBqQAAABABnmNqR/8AAAMAA7b/xWpBAAAAW0GaaEmoQWyZTAhn//6eEAAARUiXIBq+vBaN/wQ398Nprl0x6GwDse/c2JmSPaxCClsAOAh/s+TG4BE6sPoNyAP8gg7L8KnsW3m7XJLnmXYuAUfXrYLb2ctJJTcAAAAnQZ6GRRUsI/8AABa8Tx7P3ZrRjiNUqeAA1xCl1ASzVRwjjKWJ5lsxAAAAGgGepXRH/wAAAwBFhi7RU55Mffx+DQlAJqsvAAAAFgGep2pH/wAAI7IyPJpOZ/ryD28g44AAAABcQZqsSahBbJlMCGf//p4QAAAaWhAQ8ABb2A9jP6gvtck9787KzMexMro/0Yh4n4Bk3BGAJ6HCQmofOETjh3hVQpQdz3X+cdiLAAOsqJ7un8zC2gBTRACy5H7XkYAAAAArQZ7KRRUsI/8AAAhvIeav3AALUQ2Z8EY9VDsHRzg9KhCAtZVD11xDK48tuQAAABQBnul0R/8AAAUc9kQ3ILr7uCQD2gAAABoBnutqR/8AAA2HX8KIPhP5rlzmPPtVndZfgwAAAFRBmvBJqEFsmUwIZ//+nhAAAEVFKlyATX14LP4P16z838NdPdDOPkDqX23pl0l4ljzEECrpVDMi/NvzdVjQAq9A4WKMQAVoZF21yxCfeUVQWDj3x4EAAAAnQZ8ORRUsI/8AABa7lEneBNyFWffoM1bJVABOKW5N0DjjGDfcGDW3AAAALAGfLXRH/wAAI7iv3MUgL9obZrOVhxQAJmt5q0sIan+9A/myta6QsDoIwHgxAAAAHgGfL2pH/wAAI8I4xaDQ49RGQ8AD6afC6rItDU544AAAAD9BmzRJqEFsmUwIZ//+nhAAAEVSBp8/8U5ABshRnORAtQQ7fRZVoIXZryNp1OydMpbVSJRE5fDgCqXIDmyKcuAAAAAwQZ9SRRUsI/8AABa1WpA3l0WyuW4fd2zeQYEAEIuPFlTlp0rbCh1uSFTxcniz+1txAAAAIgGfcXRH/wAAI6wgmPNJ0IpqdH7dxkABLmhjYHd5J15o1twAAAAdAZ9zakf/AAAjx8cnXvmWH+Fn+8HjgoghezHkVigAAABlQZt4SahBbJlMCGf//p4QAABFVMYrOcg/aAftP34S13ra4oxgXgtDyhtaNVdbOst9D50rqNvM21V2IQUF6J7skVG9G1opxRQxU6cvu170l3z/xCyQu9GjXPCNWH1GjQ7SJJE8+LEAAAA4QZ+WRRUsI/8AABa+pKsH5FAcACKEQZcUGH7H9ouQYl+NmxJgDlSwlfz6JsA1kDbpB0xW+BogSTAAAAAVAZ+1dEf/AAAjw0CrUCN4G8Vz4gg5AAAAIgGft2pH/wAAI8e/i/dFmx9PpUugFmxkPwZPcNo9v+xT7MEAAAAwQZu8SahBbJlMCGf//p4QAABFUUheQwAE0qgOZQJnZlsvyla5/qVG1AKFYKEDsU7gAAAAHkGf2kUVLCP/AAAWtTmRmUow7gins/Q+dndbELbCsQAAABsBn/l0R/8AAAMARY//dfgjoXsFGG2/61jcduAAAAAUAZ/7akf/AAAjx7+M8Byufzt1njkAAABHQZvgSahBbJlMCGf//p4QAAADABPbQJu8WwAVDge8kg6rlxjKmKf3nV8kMnPqWL8eDz2Cfb3RrTHohTC/SWN1pK8DMkiKMtcAAAAaQZ4eRRUsI/8AAAMABnJg8CZZU4KxrIJNuaAAAAATAZ49dEf/AAAiyGw8xJ9wx9RDwAAAABYBnj9qR/8AAAMACj5hIJrXKtALEf+LAAAAQUGaJEmoQWyZTAhn//6eEAAARU5WeU2UnEtUXvzWYr6USbSAKruyZM4EeXbKvIrcg/662Hr6NdN6NWgKioevZ8fwAAAAPkGeQkUVLCP/AAAWvEPPhy03cAK5iKc2U9zenuNT1SYYYqCTLDpyuXLIO0h6co6HFllFjKwFaPbCkNd6Uu2ZAAAAHAGeYXRH/wAAAwBFhi7RU58T/0k4Rcr/6leJ7BgAAAAfAZ5jakf/AAAjvwQryE/ijIGv+xCNrFlKYDFkDimuLQAAAFtBmmhJqEFsmUwIZ//+nhAAAEVR9fWJQtLIoJIAF10aBKCrMlWVRSqgpvmYRHoEp4CvT+olKxVuY9HpKOOGWkSnewpXGlbRdwDXYYpyebkDX99vY500yZ31/VWLAAAAIEGehkUVLCP/AAAWtStDUZD1hzCjXSuc5664xVwl8nbhAAAAEgGepXRH/wAAI8MXdVFQ0STCgwAAABwBnqdqR/8AACLHxyfr40534Wf7CmFl48PH862YAAAAVEGarEmoQWyZTAhn//6eEAAARUVBYEgDilXOa48QTW4bFM3ka5ukD7YWhuF4d0kVEgoXgwQLzKQ9R25AKMWcMZIkC/acnHT75OXx2WKXbggKjTr8WAAAADlBnspFFSwj/wAAFrxDbxEABxtY1WH7RAttd90YoeQGp7fQWGbkPU9zE1ZEgZYsL8VFW4Qa3/rS2YEAAAAUAZ7pdEf/AAAiw0Jr47xZhCDwA9YAAAAiAZ7rakf/AAAjvwuuLtqbH/9WVrrWiztrkSfcMs/O7Sr7MAAAACxBmvBJqEFsmUwIZ//+nhAAAEVOYMeFpiTv2j/1EgZLsjZ53ZD3u89MNGKdwQAAACxBnw5FFSwj/wAAFrUcde3JADmmlU8HKS7g1gki8zXtoyDs75j2k2LeBcTJMQAAAB0Bny10R/8AACPC8Ies5UeMtAlY/ErVqV5Me605IQAAABQBny9qR/8AACPHv4zwHK5/ERc4OAAAAFBBmzRJqEFsmUwIZ//+nhAAAAMAE9tAvOHtL13izc+7ABGruFoxXbHK/QcyBNEvejCqQ4FdwAvGG19zKt2Auyw/5w/xUac/o+d5J2jJ2er2wAAAABlBn1JFFSwj/wAAAwAGcmgfffDw6SzNoaerAAAADgGfcXRH/wAAAwAAAwGpAAAAFwGfc2pH/wAAAwAKPnkMwUD1/vZB5z1QAAAAJkGbeEmoQWyZTAhn//6eEAAAAwAT31cH5RUHPvoAiqZ0MeWV8VfvAAAAMEGflkUVLCP/AAAWuTOcKmqAK1CNR+W//3FjPdr/6Z6Mo2jte2Sfy8LuS55TOz/fgwAAABkBn7V0R/8AACPDF3VTiA6L4DarzmazT2zBAAAAEwGft2pH/wAAI78EK8Byi9RHYMEAAAA6QZu8SahBbJlMCGf//p4QAAADADOiXhL4AKk8mQ5MNZKoCYGf/fIuLpSF0aLRWS4rL89TiqDzisrYIAAAABpBn9pFFSwj/wAAAwAQXkPQPfK8na5WDiK9twAAACUBn/l0R/8AACPIYaY59ABGAC90cGDYRy/8bwJi/c0/KCvgW8KCAAAAGAGf+2pH/wAAAwAaaSpetV8360RLc3j8GQAAACVBm+BJqEFsmUwIZ//+nhAAAAMAM3SeqrBTdzBlPjBfOXdQ1lZhAAAAM0GeHkUVLCP/AAAWuTOcKmqAK1CNR+W//3FoQlfGRDNx17BilJKRpP5eF3Jc8VF7pCh3oAAAACMBnj10R/8AACPDF3VZMkMvszkgAuogt9YcWkA+77VPxTKduAAAABMBnj9qR/8AACO/BCvAcovUR2DBAAAAP0GaJEmoQWyZTAhn//6eEAAARVFJvUAraANdarIAjBmcNrT/B1Hfe3XdiY8sGCWzeFy2AJqK/m/NGd1eD1WPgAAAAB9BnkJFFSwj/wAAFrxDzbcXTBH88UXijztgfRVyVICBAAAAHAGeYXRH/wAAI8hhbClrPjQQv9EyZVqxdNom9swAAAAoAZ5jakf/AAAjvwQnEtAsy6+1g/IWwAQ1n4CgtThmwMTIeJK3vHHgwQAAADJBmmhJqEFsmUwIZ//+nhAAAEVR9fVwveqhv6XusIRrfhSBAHD18wO5wKwTC3m3kNJExwAAACBBnoZFFSwj/wAAFrkzqoCYkdME3+kgER9nzMNK4uYVgQAAAB4BnqV0R/8AACPDF2K02cAC6iVnvNj25rmRnE+AEbEAAAAoAZ6nakf/AAAjx72Jpt3BLcIVVYALqILf0i8SJnab9YNlUn3Ir7ZbMAAAAERBmqxJqEFsmUwIZ//+nhAAAENBk1wA4tJtFoUBV6WpzRdMqZay6jeeaGlA7ga+5Aib8v1/p8CVb0ZWAgduh+l2uQCPgAAAACVBnspFFSwj/wAAFiVcIZtEzbNwgBNWsawHZ58zWQkbnhOhWLlBAAAASAGe6XRH/wAAI8DRhmDDPoAHFb5zG/a9MgmDG0ux9GrrTflJ/Jo/7v57HbatLgA9WSknOIxe9yDK+Ghft115tin9IaSebX9swAAAABYBnutqR/8AACLHyJaqKJf26S3CEAl4AAAAJUGa8EmoQWyZTAhn//6eEAAARUUpoADt0eUEj80Vnty3UE8AFbEAAAA8QZ8ORRUsI/8AABa5M5wqaoAiQFkFwIRNfoYy9yTtlW2GilagN5hQs3tEix1/4+7ygxsLNSKl3RZlTbZhAAAAJQGfLXRH/wAAI8MXafvU/PIABbwCFffdfolaNVqyMcignHyI5IEAAAAeAZ8vakf/AAAjvwQryEQ65k84CjR2/r5zENjyUK8GAAAAF0GbNEmoQWyZTAhn//6eEAAAAwAAAwM+AAAAEEGfUkUVLCP/AAADAAADAQcAAAAmAZ9xdEf/AAAjyGGmOfQAOK3zmN+2DYRy/8bwJjEzMu6ptGFvCggAAAAOAZ9zakf/AAADAAADAakAAAAXQZt4SahBbJlMCGf//p4QAAADAAADAz8AAAAqQZ+WRRUsI/8AABa5M5wqaoAbmWo383vuJIPpY21K0SPWnkL8a0+6eAPXAAAAEgGftXRH/wAAI8MXdVFQ0STCgwAAABMBn7dqR/8AACO/BCvAcovUR2DBAAAAKEGbvEmoQWyZTAhn//6eEAAARVH2CfQBGM+3tomCWR1RcBQGVYGRSs4AAAAVQZ/aRRUsI/8AABa8Q8+EK5ObxBHxAAAAEwGf+XRH/wAAI7iv3qoqBYzBODgAAAATAZ/7akf/AAAjvwQrwHKL1EdgwQAAAB5Bm+BJqEFsmUwIZ//+nhAAAEVR9fWJODczatJSs4EAAAAVQZ4eRRUsI/8AABa8Q8+EK5ObxBHwAAAAJAGePXRH/wAAAwAKPtV71YgAIa9fMxq969mmveXyfSkrM+rkxwAAABMBnj9qR/8AACO/BCvAcovUR2DBAAAAREGaJEmoQWyZTAhn//6eEAAAAwAzoly+8eV3H+rIAFMEChYI/HMG5uJ88ujeACtQJUb3GzHxmP/YhB3/+1milLek4IlwAAAAGkGeQkUVLCP/AAADABBeQ9A98rydrlYOIr23AAAAIAGeYXRH/wAAIshwOYAHGDUxEHxiT7iFH3TPIvu90Kh4AAAAGAGeY2pH/wAAAwAaaSpetV8360RLc3j8GQAAAClBmmhJqEFsmUwIZ//+nhAAABpXT1B/NxKLD6aFAKYndA5IjRoid1rc+QAAADNBnoZFFSwj/wAAFrkznCpqgCJBxCVuBrP6wUwSvjIhm469gxSklJ0T537UPCzFRfGS2YEAAAAbAZ6ldEf/AAAjwxd1WSg91/G7VyscfANCJkmBAAAAEwGep2pH/wAAI78AjqwjutUB2DAAAAAqQZqsSahBbJlMCGf//p4QAABFUfVr40ALcMvoQg/Ovk8WWt0HlaytUQm4AAAAKUGeykUVLCP/AAAWvEPPhTG4gAC6gujwJDVpqExsLWaIWhkxpz6cIOSBAAAAFwGe6XRH/wAAAwAaa7prSQig/Vx0Vf2zAAAAJwGe62pH/wAAI78EK8MrO5wFjdWQAIaz8ZrU2YSHPVyivdLOsObZgAAAADVBmvBJqEFsmUwIZ//+nhAAAEVR+/NjtAA2oYWYIk4lo0FW2q1gdWKMyAtew4ntjvRt7lwJwQAAACtBnw5FFSwj/wAAFrVFZqEgA4u7KIDgjpnvY9M/tQO39IXzbG/HLILCI+XBAAAAEgGfLXRH/wAAI8MXdVFQ0STCgwAAABoBny9qR/8AACPHvUU/BOc8VTRRXoGsObuduAAAACVBmzRJqEFsmUwIZ//+nhAAAEVVDWartpnpdTTW2q+X6hCGTV9qAAAAGUGfUkUVLCP/AAAWtStDIrobaEhTcDN+WzEAAAAbAZ9xdEf/AAAjwxd1U4fxxoGi2z761ejbXfBgAAAAEQGfc2pH/wAAI65eUPVQAJOAAAAAWUGbeEmoQWyZTAhn//6eEAAARVUNZqu4VNjzC+fQYADRvXNDPSihvNuraYpBLwa45YRUH6F+6EJr5nfiqM75sCfWcclBEUB7T9mbq1qHh69J0C5i1A2pJ5WXAAAAIEGflkUVLCP/AAAWtStDUZD1hymB2w1hSKv5MaNHrcSTAAAAEgGftXRH/wAAI8MXdVFQ0STCgwAAACwBn7dqR/8AACKk6qbigBF28vrDan65JbuFgCusugSLEmmEVtgtVOJvGAqICQAAACtBm7xJqEFsmUwIZ//+nhAAAEVVDWaruFJHVdLigIMia7FnqtLsXhckfnqgAAAAL0Gf2kUVLCP/AAAWs0dILTWfHAC1pT/IG1h1jZRH6Owsz1I8ELudCHIrs1jYfkBBAAAAJwGf+XRH/wAAI8MXaKnG1W2PHoIAHBZt7LNwNp+AcX5kjDHDJf6kmAAAACIBn/tqR/8AACO/Gd++KqmzAAtCFvXuna1EMtnlKQurgE3BAAAAUkGb4EmoQWyZTAhn//6eEAAARVUNZqvDciT4AOcN/gaHQL3zEO7ghU/oKfgULBH46JMlF/e4gsGG74S8xA9/ZfXQqbCfC1Q+5vt9yVHztTE3v2cAAAArQZ4eRRUsI/8AABa1Hh982hEe/VAETBdH3R8IeDIC2LHXzja8ZiNuxO/RAQAAAB4Bnj10R/8AACPAt906b52aSRFqvxxdDO6Y2yx7LZgAAAAWAZ4/akf/AAAFHzHxzPzhaly04UsypwAAAFFBmiRJqEFsmUwIZ//+nhAAAEVFKLQCtRT8hoIFyJAOL1w7rWexh5JnyWqHmvrFjLhHdiPFLj4a/Uj4rdVnPwZf1ueGE1ar9nP3K20SqjU8DugAAAAlQZ5CRRUsI/8AABa5M2o8apQPttITh2W11VS9IDgMB9gBMEJJMQAAAB8BnmF0R/8AACPDF2ic6q4Eo+XCEvcUQmqwDHHnxjICAAAAHgGeY2pH/wAAI78EK/qwJmKR7/Qt6Fp5Ng6bMZppyQAAAClBmmhJqEFsmUwIZ//+nhAAAEVVDWap8GnNctcx5CGQA5K8gEBLKrixYQAAAB9BnoZFFSwj/wAAFrwVnu8BNgBHbEkw504seKSjIu59AAAANAGepXRH/wAAI7CjFnJABuZirCsFptJz0RdRPkl75ct4ihZ321MSo2Le1u2e+h1UQyAh2zEAAAASAZ6nakf/AAAjvwQnEtAkAI2AAAAAJkGarEmoQWyZTAhn//6eEAAARVH2HjYALBROr+kQ4HRPZdQwAH+AAAAAQUGeykUVLCP/AAAWuTO3GhAAsEou8/wMujyjLB+7UABK4SvDS1MNsib0/GWXgQm9/CBlCfnOPlk6r/ft5r6ORBNhAAAAGQGe6XRH/wAAI7it91Re7sOHwbPfrTNqdbcAAAAsAZ7rakf/AAAjvwQrwylLJxkADjcu3uOyORICZtlwRp9tESoqJeLDKbPvwYAAAAAXQZrwSahBbJlMCGf//p4QAAADAAADAz8AAAAQQZ8ORRUsI/8AAAMAAAMBBwAAACcBny10R/8AACPIYaY59AA4rk5gIfGlRT1qYqDojagVLXhaBH28KCEAAAAOAZ8vakf/AAADAAADAakAAAAXQZs0SahBbJlMCGf//p4QAAADAAADAz4AAAAuQZ9SRRUsI/8AABa5M5wrFWAEYBJrLVG57Om4jIPpY2tJ4C5xLaEs742/ikA58QAAABIBn3F0R/8AACPDF3VRUNEkwoIAAAATAZ9zakf/AAAjvwQrwHKL1EdgwAAAACRBm3hJqEFsmUwIX//+jLAAAEYRrBEIaF9mfrEAE4ffhKCbWzEAAAAVQZ+WRRUsI/8AABa8Q8+EK5ObxBHwAAAADgGftXRH/wAAAwAAAwGpAAAAEwGft2pH/wAAI78EK8Byi9RHYMEAAAAdQZu8SahBbJlMCF///oywAABGEawRCGhfZn2YpWcAAAAUQZ/aRRUsI/8AABa1K0Mg+tP3gR8AAAAnAZ/5dEf/AAAjwxd1UU7eZSgVQAW8S0+Km+CvZgxknFW3qg7LX4UEAAAAHQGf+2pH/wAAIqT/8d/Y9OZ/lEgAkaA2sXTS6AxZAAAANEGb4EmoQWyZTAhf//6MsAAARCPdP5oArVDfgMrqIMGVP0Lqec62tmWxfbTi9EX7XWe5w/0AAAAeQZ4eRRUsI/8AABa+o54ggzlfzHyAA87rgLsRiBHwAAAAEgGePXRH/wAAI8MXdVFQ0STCggAAACgBnj9qR/8AACO/BCvBOROIgQmAA2oA7bVd3mfxRHK6Q+zpZjISc7ZhAAAAO0GaJEmoQWyZTAhX//44QAABDT63iVMJxqRpV90AE7ZZI6B3YHCHlDhlXsYkcYu2EFXXfnylGI+KuTPAAAAAHEGeQkUVLCP/AAAWvEW+yxn23dEQWLpzQHHX2YEAAAAbAZ5hdEf/AAAjuLBC6ABxO99e4ZUVAg6biTg4AAAAGAGeY2pH/wAAI78EK8E50HVxnSXqKrA7cQAAACFBmmhJqEFsmUwI//yEAAAP2L5dRSGldOvuD+QAFxXvm58AAAAbQZ6GRRUsI/8AABa8Q8+EdKFp5SqToRxVehuLAAAAHAGepXRH/wAAAwAaVWiJXtgkCRke04YpieUD7MEAAAATAZ6nakf/AAAjvwQrwHKL1EdgwAAADH9tb292AAAAbG12aGQAAAAAAAAAAAAAAAAAAAPoAAAPtAABAAABAAAAAAAAAAAAAAAAAQAAAAAAAAAAAAAAAAAAAAEAAAAAAAAAAAAAAAAAAEAAAAAAAAAAAAAAAAAAAAAAAAAAAAAAAAAAAAAAAAACAAALqXRyYWsAAABcdGtoZAAAAAMAAAAAAAAAAAAAAAEAAAAAAAAPtAAAAAAAAAAAAAAAAAAAAAAAAQAAAAAAAAAAAAAAAAAAAAEAAAAAAAAAAAAAAAAAAEAAAAACWAAAAZAAAAAAACRlZHRzAAAAHGVsc3QAAAAAAAAAAQAAD7QAAAIAAAEAAAAACyFtZGlhAAAAIG1kaGQAAAAAAAAAAAAAAAAAADIAAADJAFXEAAAAAAAtaGRscgAAAAAAAAAAdmlkZQAAAAAAAAAAAAAAAFZpZGVvSGFuZGxlcgAAAArMbWluZgAAABR2bWhkAAAAAQAAAAAAAAAAAAAAJGRpbmYAAAAcZHJlZgAAAAAAAAABAAAADHVybCAAAAABAAAKjHN0YmwAAACYc3RzZAAAAAAAAAABAAAAiGF2YzEAAAAAAAAAAQAAAAAAAAAAAAAAAAAAAAACWAGQAEgAAABIAAAAAAAAAAEAAAAAAAAAAAAAAAAAAAAAAAAAAAAAAAAAAAAAAAAAAAAY//8AAAAyYXZjQwFkAB//4QAZZ2QAH6zZQJgz5eEAAAMAAQAAAwBkDxgxlgEABmjr48siwAAAABhzdHRzAAAAAAAAAAEAAADJAAABAAAAABRzdHNzAAAAAAAAAAEAAAABAAAGWGN0dHMAAAAAAAAAyQAAAAEAAAIAAAAAAQAABQAAAAABAAACAAAAAAEAAAAAAAAAAQAAAQAAAAABAAAFAAAAAAEAAAIAAAAAAQAAAAAAAAABAAABAAAAAAEAAAUAAAAAAQAAAgAAAAABAAAAAAAAAAEAAAEAAAAAAQAABQAAAAABAAACAAAAAAEAAAAAAAAAAQAAAQAAAAABAAAFAAAAAAEAAAIAAAAAAQAAAAAAAAABAAABAAAAAAEAAAUAAAAAAQAAAgAAAAABAAAAAAAAAAEAAAEAAAAAAQAABQAAAAABAAACAAAAAAEAAAAAAAAAAQAAAQAAAAABAAAFAAAAAAEAAAIAAAAAAQAAAAAAAAABAAABAAAAAAEAAAUAAAAAAQAAAgAAAAABAAAAAAAAAAEAAAEAAAAAAQAABQAAAAABAAACAAAAAAEAAAAAAAAAAQAAAQAAAAABAAAFAAAAAAEAAAIAAAAAAQAAAAAAAAABAAABAAAAAAEAAAUAAAAAAQAAAgAAAAABAAAAAAAAAAEAAAEAAAAAAQAABQAAAAABAAACAAAAAAEAAAAAAAAAAQAAAQAAAAABAAAFAAAAAAEAAAIAAAAAAQAAAAAAAAABAAABAAAAAAEAAAUAAAAAAQAAAgAAAAABAAAAAAAAAAEAAAEAAAAAAQAABQAAAAABAAACAAAAAAEAAAAAAAAAAQAAAQAAAAABAAAFAAAAAAEAAAIAAAAAAQAAAAAAAAABAAABAAAAAAEAAAUAAAAAAQAAAgAAAAABAAAAAAAAAAEAAAEAAAAAAQAABQAAAAABAAACAAAAAAEAAAAAAAAAAQAAAQAAAAABAAAFAAAAAAEAAAIAAAAAAQAAAAAAAAABAAABAAAAAAEAAAUAAAAAAQAAAgAAAAABAAAAAAAAAAEAAAEAAAAAAQAABQAAAAABAAACAAAAAAEAAAAAAAAAAQAAAQAAAAABAAAFAAAAAAEAAAIAAAAAAQAAAAAAAAABAAABAAAAAAEAAAUAAAAAAQAAAgAAAAABAAAAAAAAAAEAAAEAAAAAAQAABQAAAAABAAACAAAAAAEAAAAAAAAAAQAAAQAAAAABAAAFAAAAAAEAAAIAAAAAAQAAAAAAAAABAAABAAAAAAEAAAUAAAAAAQAAAgAAAAABAAAAAAAAAAEAAAEAAAAAAQAABQAAAAABAAACAAAAAAEAAAAAAAAAAQAAAQAAAAABAAAFAAAAAAEAAAIAAAAAAQAAAAAAAAABAAABAAAAAAEAAAUAAAAAAQAAAgAAAAABAAAAAAAAAAEAAAEAAAAAAQAABQAAAAABAAACAAAAAAEAAAAAAAAAAQAAAQAAAAABAAAFAAAAAAEAAAIAAAAAAQAAAAAAAAABAAABAAAAAAEAAAUAAAAAAQAAAgAAAAABAAAAAAAAAAEAAAEAAAAAAQAABQAAAAABAAACAAAAAAEAAAAAAAAAAQAAAQAAAAABAAAFAAAAAAEAAAIAAAAAAQAAAAAAAAABAAABAAAAAAEAAAUAAAAAAQAAAgAAAAABAAAAAAAAAAEAAAEAAAAAAQAABQAAAAABAAACAAAAAAEAAAAAAAAAAQAAAQAAAAABAAAFAAAAAAEAAAIAAAAAAQAAAAAAAAABAAABAAAAAAEAAAUAAAAAAQAAAgAAAAABAAAAAAAAAAEAAAEAAAAAAQAABQAAAAABAAACAAAAAAEAAAAAAAAAAQAAAQAAAAABAAAFAAAAAAEAAAIAAAAAAQAAAAAAAAABAAABAAAAAAEAAAUAAAAAAQAAAgAAAAABAAAAAAAAAAEAAAEAAAAAAQAABQAAAAABAAACAAAAAAEAAAAAAAAAAQAAAQAAAAABAAAFAAAAAAEAAAIAAAAAAQAAAAAAAAABAAABAAAAAAEAAAUAAAAAAQAAAgAAAAABAAAAAAAAAAEAAAEAAAAAAQAABQAAAAABAAACAAAAAAEAAAAAAAAAAQAAAQAAAAABAAAFAAAAAAEAAAIAAAAAAQAAAAAAAAABAAABAAAAAAEAAAUAAAAAAQAAAgAAAAABAAAAAAAAAAEAAAEAAAAAAQAABQAAAAABAAACAAAAAAEAAAAAAAAAAQAAAQAAAAABAAAFAAAAAAEAAAIAAAAAAQAAAAAAAAABAAABAAAAABxzdHNjAAAAAAAAAAEAAAABAAAAyQAAAAEAAAM4c3RzegAAAAAAAAAAAAAAyQAABMAAAACEAAAANAAAAEQAAAA+AAAAUgAAACYAAAAcAAAAGgAAAE0AAAArAAAAMQAAABkAAABFAAAAJwAAABkAAAAuAAAANgAAABsAAAAdAAAAFwAAAFwAAAA8AAAAMAAAACwAAABTAAAAKQAAABQAAAAXAAAANQAAADEAAAA3AAAAMQAAADsAAAAWAAAAEgAAABQAAABfAAAAKwAAAB4AAAAaAAAAYAAAAC8AAAAYAAAAHgAAAFgAAAArAAAAMAAAACIAAABDAAAANAAAACYAAAAhAAAAaQAAADwAAAAZAAAAJgAAADQAAAAiAAAAHwAAABgAAABLAAAAHgAAABcAAAAaAAAARQAAAEIAAAAgAAAAIwAAAF8AAAAkAAAAFgAAACAAAABYAAAAPQAAABgAAAAmAAAAMAAAADAAAAAhAAAAGAAAAFQAAAAdAAAAEgAAABsAAAAqAAAANAAAAB0AAAAXAAAAPgAAAB4AAAApAAAAHAAAACkAAAA3AAAAJwAAABcAAABDAAAAIwAAACAAAAAsAAAANgAAACQAAAAiAAAALAAAAEgAAAApAAAATAAAABoAAAApAAAAQAAAACkAAAAiAAAAGwAAABQAAAAqAAAAEgAAABsAAAAuAAAAFgAAABcAAAAsAAAAGQAAABcAAAAXAAAAIgAAABkAAAAoAAAAFwAAAEgAAAAeAAAAJAAAABwAAAAtAAAANwAAAB8AAAAXAAAALgAAAC0AAAAbAAAAKwAAADkAAAAvAAAAFgAAAB4AAAApAAAAHQAAAB8AAAAVAAAAXQAAACQAAAAWAAAAMAAAAC8AAAAzAAAAKwAAACYAAABWAAAALwAAACIAAAAaAAAAVQAAACkAAAAjAAAAIgAAAC0AAAAjAAAAOAAAABYAAAAqAAAARQAAAB0AAAAwAAAAGwAAABQAAAArAAAAEgAAABsAAAAyAAAAFgAAABcAAAAoAAAAGQAAABIAAAAXAAAAIQAAABgAAAArAAAAIQAAADgAAAAiAAAAFgAAACwAAAA/AAAAIAAAAB8AAAAcAAAAJQAAAB8AAAAgAAAAFwAAABRzdGNvAAAAAAAAAAEAAAAwAAAAYnVkdGEAAABabWV0YQAAAAAAAAAhaGRscgAAAAAAAAAAbWRpcmFwcGwAAAAAAAAAAAAAAAAtaWxzdAAAACWpdG9vAAAAHWRhdGEAAAABAAAAAExhdmY1Ny44My4xMDA=\" type=\"video/mp4\" />\n",
              "             </video>"
            ]
          },
          "metadata": {}
        }
      ]
    },
    {
      "cell_type": "code",
      "source": [
        ""
      ],
      "metadata": {
        "id": "ZztHqiQ0Ty1R"
      },
      "execution_count": null,
      "outputs": []
    }
  ]
}